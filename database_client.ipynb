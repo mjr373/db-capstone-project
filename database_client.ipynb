{
 "cells": [
  {
   "cell_type": "code",
   "execution_count": 1,
   "metadata": {},
   "outputs": [],
   "source": [
    "import mysql.connector as connector"
   ]
  },
  {
   "attachments": {},
   "cell_type": "markdown",
   "metadata": {},
   "source": [
    "### Task 1"
   ]
  },
  {
   "cell_type": "code",
   "execution_count": 2,
   "metadata": {},
   "outputs": [],
   "source": [
    "# Task 1\n",
    "dbconfig = {\n",
    "    \"database\" : \"mydb\", \n",
    "    \"user\" : \"root\",\n",
    "    \"password\" : \"\"\n",
    "}\n",
    "connection=connector.connect(**dbconfig)"
   ]
  },
  {
   "cell_type": "code",
   "execution_count": null,
   "metadata": {},
   "outputs": [],
   "source": [
    "connection=connector.connect(user=\"root\",password=\"\")"
   ]
  },
  {
   "attachments": {},
   "cell_type": "markdown",
   "metadata": {},
   "source": [
    "### Task 2"
   ]
  },
  {
   "cell_type": "code",
   "execution_count": 5,
   "metadata": {},
   "outputs": [],
   "source": [
    "cursor = connection.cursor()"
   ]
  },
  {
   "cell_type": "code",
   "execution_count": 7,
   "metadata": {},
   "outputs": [
    {
     "name": "stdout",
     "output_type": "stream",
     "text": [
      "('bookings',)\n",
      "('category',)\n",
      "('customers',)\n",
      "('delivery_status',)\n",
      "('employees',)\n",
      "('menu',)\n",
      "('menuitems',)\n",
      "('orders',)\n",
      "('ordersview',)\n",
      "('task2',)\n",
      "('task3',)\n"
     ]
    }
   ],
   "source": [
    "# Note, 'ordersview', 'task2', and 'task3' are views\n",
    "show_tables = 'SHOW tables;'\n",
    "cursor.execute(show_tables)\n",
    "results = cursor.fetchall()\n",
    "for item in results:\n",
    "    print(item)"
   ]
  },
  {
   "attachments": {},
   "cell_type": "markdown",
   "metadata": {},
   "source": [
    "### Task 3"
   ]
  },
  {
   "cell_type": "code",
   "execution_count": 16,
   "metadata": {},
   "outputs": [
    {
     "name": "stdout",
     "output_type": "stream",
     "text": [
      "('TableNumber', 'TotalCost', 'PhoneNumber')\n",
      "(5, Decimal('86'), '351258074')\n"
     ]
    }
   ],
   "source": [
    "join_query = 'SELECT Bookings.TableNumber, Orders.Cost AS TotalCost, Customers.PhoneNumber FROM Customers JOIN Bookings ON Customers.CustomerID = Bookings.CustomerID JOIN Orders ON Bookings.BookingID = Orders.BookingID WHERE Orders.Cost > 60;'\n",
    "cursor.execute(join_query)\n",
    "results = cursor.fetchall()\n",
    "print(cursor.column_names)\n",
    "for item in results:\n",
    "    print(item)"
   ]
  },
  {
   "cell_type": "code",
   "execution_count": null,
   "metadata": {},
   "outputs": [],
   "source": [
    "connection.close()"
   ]
  }
 ],
 "metadata": {
  "kernelspec": {
   "display_name": "Python 3",
   "language": "python",
   "name": "python3"
  },
  "language_info": {
   "codemirror_mode": {
    "name": "ipython",
    "version": 3
   },
   "file_extension": ".py",
   "mimetype": "text/x-python",
   "name": "python",
   "nbconvert_exporter": "python",
   "pygments_lexer": "ipython3",
   "version": "3.11.1"
  },
  "orig_nbformat": 4,
  "vscode": {
   "interpreter": {
    "hash": "72b2382ece9768098284d92bbc69d35954e75b60d1e25897d1389c232f4796f0"
   }
  }
 },
 "nbformat": 4,
 "nbformat_minor": 2
}
